{
 "cells": [
  {
   "cell_type": "code",
   "execution_count": 1,
   "id": "d175bbe0-52ea-4d53-a0ee-6974f6bf6657",
   "metadata": {},
   "outputs": [
    {
     "name": "stdout",
     "output_type": "stream",
     "text": [
      "Collecting groq\n",
      "  Downloading groq-0.13.0-py3-none-any.whl.metadata (13 kB)\n",
      "Requirement already satisfied: anyio<5,>=3.5.0 in c:\\users\\fahid\\anaconda3\\envs\\myenv\\lib\\site-packages (from groq) (4.7.0)\n",
      "Requirement already satisfied: distro<2,>=1.7.0 in c:\\users\\fahid\\anaconda3\\envs\\myenv\\lib\\site-packages (from groq) (1.9.0)\n",
      "Requirement already satisfied: httpx<1,>=0.23.0 in c:\\users\\fahid\\anaconda3\\envs\\myenv\\lib\\site-packages (from groq) (0.28.1)\n",
      "Requirement already satisfied: pydantic<3,>=1.9.0 in c:\\users\\fahid\\anaconda3\\envs\\myenv\\lib\\site-packages (from groq) (2.10.3)\n",
      "Requirement already satisfied: sniffio in c:\\users\\fahid\\anaconda3\\envs\\myenv\\lib\\site-packages (from groq) (1.3.1)\n",
      "Requirement already satisfied: typing-extensions<5,>=4.7 in c:\\users\\fahid\\anaconda3\\envs\\myenv\\lib\\site-packages (from groq) (4.12.2)\n",
      "Requirement already satisfied: idna>=2.8 in c:\\users\\fahid\\anaconda3\\envs\\myenv\\lib\\site-packages (from anyio<5,>=3.5.0->groq) (3.10)\n",
      "Requirement already satisfied: certifi in c:\\users\\fahid\\anaconda3\\envs\\myenv\\lib\\site-packages (from httpx<1,>=0.23.0->groq) (2024.8.30)\n",
      "Requirement already satisfied: httpcore==1.* in c:\\users\\fahid\\anaconda3\\envs\\myenv\\lib\\site-packages (from httpx<1,>=0.23.0->groq) (1.0.7)\n",
      "Requirement already satisfied: h11<0.15,>=0.13 in c:\\users\\fahid\\anaconda3\\envs\\myenv\\lib\\site-packages (from httpcore==1.*->httpx<1,>=0.23.0->groq) (0.14.0)\n",
      "Requirement already satisfied: annotated-types>=0.6.0 in c:\\users\\fahid\\anaconda3\\envs\\myenv\\lib\\site-packages (from pydantic<3,>=1.9.0->groq) (0.7.0)\n",
      "Requirement already satisfied: pydantic-core==2.27.1 in c:\\users\\fahid\\anaconda3\\envs\\myenv\\lib\\site-packages (from pydantic<3,>=1.9.0->groq) (2.27.1)\n",
      "Downloading groq-0.13.0-py3-none-any.whl (108 kB)\n",
      "Installing collected packages: groq\n",
      "Successfully installed groq-0.13.0\n",
      "Note: you may need to restart the kernel to use updated packages.\n"
     ]
    }
   ],
   "source": [
    "pip install groq"
   ]
  },
  {
   "cell_type": "code",
   "execution_count": 2,
   "id": "e4ed846c-017e-48fd-9c9f-bd18539bf540",
   "metadata": {},
   "outputs": [],
   "source": [
    "from groq import Groq\n",
    "import os"
   ]
  },
  {
   "cell_type": "code",
   "execution_count": 3,
   "id": "4819b4d5-fddb-4b86-bc6a-d1ff187897be",
   "metadata": {},
   "outputs": [],
   "source": [
    "os.environ['GROQ_API_KEY'] = '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'"
   ]
  },
  {
   "cell_type": "code",
   "execution_count": 4,
   "id": "3673d596-383b-4424-876c-29f7ce0fe0d7",
   "metadata": {},
   "outputs": [],
   "source": [
    "client = Groq(\n",
    "    api_key=os.environ.get(\"GROQ_API_KEY\"),\n",
    ")"
   ]
  },
  {
   "cell_type": "code",
   "execution_count": null,
   "id": "643e8e70-c3a8-4365-b0fe-b2c22bc44a58",
   "metadata": {},
   "outputs": [],
   "source": [
    "def ask(message, sys_message='''You are a world-class judge responsible for categorizing restaurant reviews. Follow these instructions carefully:\n",
    "    Task:\n",
    "    Add ^$ in front of any content specifically related to food.\n",
    "    Add ^* in front of any content specifically related to staff.\n",
    "    Add ^@ in front of any content unrelated to food or staff.\n",
    "    Add ^@ in front of any content containing personal information.\n",
    "    Rules:\n",
    "    Do not change or modify the original content of the review.\n",
    "    Return only the labeled review content without adding any additional text or explanations.\n",
    "    Prioritize personal information:\n",
    "    If a part of the review contains both personal information and references to other things, label it with ^@ (for personal information or personal events like birthday etc).\n",
    "    If no part of the review is related to food or staff, label the entire review with ^@.\n",
    "    Provide the response in a single line, preserving the original order and wording.\n",
    "    Output Format:\n",
    "    Label each part of the review as instructed, maintaining its original order and wording, with labels prefixed to the corresponding parts.\n",
    "    ''',\n",
    "         model=\"llama3-8b-8192\"):\n",
    "\n",
    "    # Construct the messages list for the chat\n",
    "    messages = [\n",
    "        {\"role\": \"system\", \"content\": sys_message},\n",
    "        {\"role\": \"user\", \"content\": message}\n",
    "    ]\n",
    "\n",
    "    # Send the messages to the model and get the response\n",
    "    response = client.chat.completions.create(model=model, messages=messages)\n",
    "\n",
    "    # Return the content of the model's response\n",
    "    return response.choices[0].message.content\n"
   ]
  },
  {
   "cell_type": "code",
   "execution_count": 9,
   "id": "d3055a37-2c9e-4174-85e7-83b9a2e7431a",
   "metadata": {},
   "outputs": [
    {
     "data": {
      "text/plain": [
       "'I categorize this review as POSITIVE with a minor critique.\\n\\nReasoning:\\n\\n* The reviewer uses superlatives such as \"great food\" and \"great service\" to describe their experience, indicating a high level of satisfaction.\\n* They mention that they \"will definitely be back\", which implies a strong likelihood of repeat business.\\n* The only critique is a minor one, specifically related to the layout of the restaurant (close tables causing noise issues).\\n* Although it\\'s notable, the reviewer does not seem overly dissatisfied with the noise issue, as they still plan to return to the restaurant.\\n\\nOverall, the reviewer\\'s sentiment is overwhelmingly positive, and the minor critique does not detract from their overall enthusiasm for the restaurant.'"
      ]
     },
     "execution_count": 9,
     "metadata": {},
     "output_type": "execute_result"
    }
   ],
   "source": [
    "ask( '''great food and great service! Only critique is that tables are very close together which causes noise volume to be loud- especially when my two top is sat between two large 5+ seat tables.\n",
    "Will definitely be back!''')"
   ]
  },
  {
   "cell_type": "code",
   "execution_count": null,
   "id": "e357c400-caf7-4966-90ff-d1eb628638e2",
   "metadata": {},
   "outputs": [],
   "source": []
  }
 ],
 "metadata": {
  "kernelspec": {
   "display_name": "myenv",
   "language": "python",
   "name": "python3"
  },
  "language_info": {
   "codemirror_mode": {
    "name": "ipython",
    "version": 3
   },
   "file_extension": ".py",
   "mimetype": "text/x-python",
   "name": "python",
   "nbconvert_exporter": "python",
   "pygments_lexer": "ipython3",
   "version": "3.12.7"
  }
 },
 "nbformat": 4,
 "nbformat_minor": 5
}
